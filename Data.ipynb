{
 "cells": [
  {
   "cell_type": "markdown",
   "id": "9fe410cc-9b29-4f6e-b301-fdbb35fad2f0",
   "metadata": {},
   "source": [
    "## 1. Data Input\n",
    "We will be using a data set that contains names, keywords, and overview of 4803 movies. We exclude the 3 movies with invalid overviews, and the resulting dataset contains 4800 movie names, keywords, and overviews. For simplicity in handling, we reduce the set to 439 valid entries."
   ]
  },
  {
   "cell_type": "code",
   "execution_count": 2,
   "id": "9602c848-4906-4ede-8930-09248e523886",
   "metadata": {},
   "outputs": [
    {
     "name": "stderr",
     "output_type": "stream",
     "text": [
      "C:\\Users\\Pub\\anaconda3\\envs\\Demo_env\\Lib\\site-packages\\tqdm\\auto.py:21: TqdmWarning: IProgress not found. Please update jupyter and ipywidgets. See https://ipywidgets.readthedocs.io/en/stable/user_install.html\n",
      "  from .autonotebook import tqdm as notebook_tqdm\n"
     ]
    }
   ],
   "source": [
    "import kagglehub\n",
    "# Download latest version\n",
    "path = kagglehub.dataset_download(\"harshshinde8/movies-csv\")\n"
   ]
  },
  {
   "cell_type": "code",
   "execution_count": 3,
   "id": "37b43ac1-5e29-40c1-a28d-d3fe5e7d8f17",
   "metadata": {},
   "outputs": [],
   "source": [
    "#!pip install pandas\n",
    "import pandas as pd\n",
    "\n",
    "# Importing the data and select 1 row from every 10 rows.\n",
    "data = pd.read_csv(path+'/movies.csv',usecols=['original_title','overview','keywords'])\n",
    "df_cleaned = data.dropna()\n",
    "df_cleaned = df_cleaned.reset_index(drop=True)\n",
    "df = df_cleaned.iloc[::10]"
   ]
  },
  {
   "cell_type": "markdown",
   "id": "7940dc4a-7d48-4e2f-ae1b-d74f1b001a73",
   "metadata": {},
   "source": [
    "## 1.1 Data Cleaning\n",
    "\n",
    "We futher re-organize the data as following: To implement a TF-IDF algorithm, we combine the movie title, summary, and movie keywords to a single combined feature."
   ]
  },
  {
   "cell_type": "code",
   "execution_count": 5,
   "id": "3fde3d7a-d074-4110-96b9-da1ecf361022",
   "metadata": {},
   "outputs": [
    {
     "name": "stderr",
     "output_type": "stream",
     "text": [
      "C:\\Users\\Pub\\AppData\\Local\\Temp\\ipykernel_676\\1783560457.py:2: SettingWithCopyWarning: \n",
      "A value is trying to be set on a copy of a slice from a DataFrame.\n",
      "Try using .loc[row_indexer,col_indexer] = value instead\n",
      "\n",
      "See the caveats in the documentation: https://pandas.pydata.org/pandas-docs/stable/user_guide/indexing.html#returning-a-view-versus-a-copy\n",
      "  df.loc[:,'combined_features'] = df.loc[:,'original_title'] + ' ' + df.loc[:,'overview'] + ' ' + df.loc[:,'keywords']\n"
     ]
    },
    {
     "data": {
      "text/html": [
       "<div>\n",
       "<style scoped>\n",
       "    .dataframe tbody tr th:only-of-type {\n",
       "        vertical-align: middle;\n",
       "    }\n",
       "\n",
       "    .dataframe tbody tr th {\n",
       "        vertical-align: top;\n",
       "    }\n",
       "\n",
       "    .dataframe thead th {\n",
       "        text-align: right;\n",
       "    }\n",
       "</style>\n",
       "<table border=\"1\" class=\"dataframe\">\n",
       "  <thead>\n",
       "    <tr style=\"text-align: right;\">\n",
       "      <th></th>\n",
       "      <th>keywords</th>\n",
       "      <th>original_title</th>\n",
       "      <th>overview</th>\n",
       "      <th>combined_features</th>\n",
       "    </tr>\n",
       "  </thead>\n",
       "  <tbody>\n",
       "    <tr>\n",
       "      <th>0</th>\n",
       "      <td>culture clash future space war space colony so...</td>\n",
       "      <td>Avatar</td>\n",
       "      <td>In the 22nd century, a paraplegic Marine is di...</td>\n",
       "      <td>Avatar In the 22nd century, a paraplegic Marin...</td>\n",
       "    </tr>\n",
       "    <tr>\n",
       "      <th>1</th>\n",
       "      <td>saving the world dc comics invulnerability seq...</td>\n",
       "      <td>Superman Returns</td>\n",
       "      <td>Superman returns to discover his 5-year absenc...</td>\n",
       "      <td>Superman Returns Superman returns to discover ...</td>\n",
       "    </tr>\n",
       "    <tr>\n",
       "      <th>2</th>\n",
       "      <td>loss of father vigilante serum marvel comic sc...</td>\n",
       "      <td>The Amazing Spider-Man</td>\n",
       "      <td>Peter Parker is an outcast high schooler aband...</td>\n",
       "      <td>The Amazing Spider-Man Peter Parker is an outc...</td>\n",
       "    </tr>\n",
       "    <tr>\n",
       "      <th>3</th>\n",
       "      <td>dual identity love of one's life pizza boy mar...</td>\n",
       "      <td>Spider-Man 2</td>\n",
       "      <td>Peter Parker is going through a major identity...</td>\n",
       "      <td>Spider-Man 2 Peter Parker is going through a m...</td>\n",
       "    </tr>\n",
       "    <tr>\n",
       "      <th>4</th>\n",
       "      <td>car race sequel comedy anthropomorphism best f...</td>\n",
       "      <td>Cars 2</td>\n",
       "      <td>Star race car Lightning McQueen and his pal Ma...</td>\n",
       "      <td>Cars 2 Star race car Lightning McQueen and his...</td>\n",
       "    </tr>\n",
       "    <tr>\n",
       "      <th>...</th>\n",
       "      <td>...</td>\n",
       "      <td>...</td>\n",
       "      <td>...</td>\n",
       "      <td>...</td>\n",
       "    </tr>\n",
       "    <tr>\n",
       "      <th>434</th>\n",
       "      <td>london england countryside rape sex trauma</td>\n",
       "      <td>Straightheads</td>\n",
       "      <td>There is instant chemistry between Alice (Gill...</td>\n",
       "      <td>Straightheads There is instant chemistry betwe...</td>\n",
       "    </tr>\n",
       "    <tr>\n",
       "      <th>435</th>\n",
       "      <td>transplantation experiment mutant brain fianc\\...</td>\n",
       "      <td>The Brain That Wouldn't Die</td>\n",
       "      <td>Dr. Bill Cortner (Jason Evers) and his fiancée...</td>\n",
       "      <td>The Brain That Wouldn't Die Dr. Bill Cortner (...</td>\n",
       "    </tr>\n",
       "    <tr>\n",
       "      <th>436</th>\n",
       "      <td>independent film</td>\n",
       "      <td>George Washington</td>\n",
       "      <td>A delicately told and deceptively simple story...</td>\n",
       "      <td>George Washington A delicately told and decept...</td>\n",
       "    </tr>\n",
       "    <tr>\n",
       "      <th>437</th>\n",
       "      <td>office love independent film secretary misogynist</td>\n",
       "      <td>In the Company of Men</td>\n",
       "      <td>Two business executives--one an avowed misogyn...</td>\n",
       "      <td>In the Company of Men Two business executives-...</td>\n",
       "    </tr>\n",
       "    <tr>\n",
       "      <th>438</th>\n",
       "      <td>addiction recovering drug addict estranged son</td>\n",
       "      <td>Clean</td>\n",
       "      <td>After losing her husband to a heroin overdose,...</td>\n",
       "      <td>Clean After losing her husband to a heroin ove...</td>\n",
       "    </tr>\n",
       "  </tbody>\n",
       "</table>\n",
       "<p>439 rows × 4 columns</p>\n",
       "</div>"
      ],
      "text/plain": [
       "                                              keywords  \\\n",
       "0    culture clash future space war space colony so...   \n",
       "1    saving the world dc comics invulnerability seq...   \n",
       "2    loss of father vigilante serum marvel comic sc...   \n",
       "3    dual identity love of one's life pizza boy mar...   \n",
       "4    car race sequel comedy anthropomorphism best f...   \n",
       "..                                                 ...   \n",
       "434         london england countryside rape sex trauma   \n",
       "435  transplantation experiment mutant brain fianc\\...   \n",
       "436                                   independent film   \n",
       "437  office love independent film secretary misogynist   \n",
       "438     addiction recovering drug addict estranged son   \n",
       "\n",
       "                  original_title  \\\n",
       "0                         Avatar   \n",
       "1               Superman Returns   \n",
       "2         The Amazing Spider-Man   \n",
       "3                   Spider-Man 2   \n",
       "4                         Cars 2   \n",
       "..                           ...   \n",
       "434                Straightheads   \n",
       "435  The Brain That Wouldn't Die   \n",
       "436            George Washington   \n",
       "437        In the Company of Men   \n",
       "438                        Clean   \n",
       "\n",
       "                                              overview  \\\n",
       "0    In the 22nd century, a paraplegic Marine is di...   \n",
       "1    Superman returns to discover his 5-year absenc...   \n",
       "2    Peter Parker is an outcast high schooler aband...   \n",
       "3    Peter Parker is going through a major identity...   \n",
       "4    Star race car Lightning McQueen and his pal Ma...   \n",
       "..                                                 ...   \n",
       "434  There is instant chemistry between Alice (Gill...   \n",
       "435  Dr. Bill Cortner (Jason Evers) and his fiancée...   \n",
       "436  A delicately told and deceptively simple story...   \n",
       "437  Two business executives--one an avowed misogyn...   \n",
       "438  After losing her husband to a heroin overdose,...   \n",
       "\n",
       "                                     combined_features  \n",
       "0    Avatar In the 22nd century, a paraplegic Marin...  \n",
       "1    Superman Returns Superman returns to discover ...  \n",
       "2    The Amazing Spider-Man Peter Parker is an outc...  \n",
       "3    Spider-Man 2 Peter Parker is going through a m...  \n",
       "4    Cars 2 Star race car Lightning McQueen and his...  \n",
       "..                                                 ...  \n",
       "434  Straightheads There is instant chemistry betwe...  \n",
       "435  The Brain That Wouldn't Die Dr. Bill Cortner (...  \n",
       "436  George Washington A delicately told and decept...  \n",
       "437  In the Company of Men Two business executives-...  \n",
       "438  Clean After losing her husband to a heroin ove...  \n",
       "\n",
       "[439 rows x 4 columns]"
      ]
     },
     "execution_count": 5,
     "metadata": {},
     "output_type": "execute_result"
    }
   ],
   "source": [
    "# A new column is added:\n",
    "df.loc[:,'combined_features'] = df.loc[:,'original_title'] + ' ' + df.loc[:,'overview'] + ' ' + df.loc[:,'keywords']\n",
    "df.reset_index(drop=True)\n"
   ]
  },
  {
   "cell_type": "markdown",
   "id": "8e4e2112-c30d-4275-94ab-51211e8e6138",
   "metadata": {},
   "source": [
    "### 1.2 (Optional) Storing the dataframe to a local csv"
   ]
  },
  {
   "cell_type": "code",
   "execution_count": 7,
   "id": "1b46ca20-901d-49fa-a786-67553f65d5ea",
   "metadata": {},
   "outputs": [],
   "source": [
    "import os\n",
    "\n",
    "os.makedirs('Data', exist_ok=True)\n",
    "df.to_csv(\"./Data/my_data.csv\", index=False)  \n"
   ]
  },
  {
   "cell_type": "markdown",
   "id": "6ad18a15-12a4-4f15-9541-d32d0102c080",
   "metadata": {},
   "source": [
    "#### 1.2.1 Loading the dataframe from a local csv"
   ]
  },
  {
   "cell_type": "code",
   "execution_count": 9,
   "id": "e1420641-d632-4276-a8cc-69c27d2f4812",
   "metadata": {},
   "outputs": [
    {
     "data": {
      "text/html": [
       "<div>\n",
       "<style scoped>\n",
       "    .dataframe tbody tr th:only-of-type {\n",
       "        vertical-align: middle;\n",
       "    }\n",
       "\n",
       "    .dataframe tbody tr th {\n",
       "        vertical-align: top;\n",
       "    }\n",
       "\n",
       "    .dataframe thead th {\n",
       "        text-align: right;\n",
       "    }\n",
       "</style>\n",
       "<table border=\"1\" class=\"dataframe\">\n",
       "  <thead>\n",
       "    <tr style=\"text-align: right;\">\n",
       "      <th></th>\n",
       "      <th>keywords</th>\n",
       "      <th>original_title</th>\n",
       "      <th>overview</th>\n",
       "      <th>combined_features</th>\n",
       "    </tr>\n",
       "  </thead>\n",
       "  <tbody>\n",
       "    <tr>\n",
       "      <th>0</th>\n",
       "      <td>culture clash future space war space colony so...</td>\n",
       "      <td>Avatar</td>\n",
       "      <td>In the 22nd century, a paraplegic Marine is di...</td>\n",
       "      <td>Avatar In the 22nd century, a paraplegic Marin...</td>\n",
       "    </tr>\n",
       "    <tr>\n",
       "      <th>1</th>\n",
       "      <td>saving the world dc comics invulnerability seq...</td>\n",
       "      <td>Superman Returns</td>\n",
       "      <td>Superman returns to discover his 5-year absenc...</td>\n",
       "      <td>Superman Returns Superman returns to discover ...</td>\n",
       "    </tr>\n",
       "    <tr>\n",
       "      <th>2</th>\n",
       "      <td>loss of father vigilante serum marvel comic sc...</td>\n",
       "      <td>The Amazing Spider-Man</td>\n",
       "      <td>Peter Parker is an outcast high schooler aband...</td>\n",
       "      <td>The Amazing Spider-Man Peter Parker is an outc...</td>\n",
       "    </tr>\n",
       "    <tr>\n",
       "      <th>3</th>\n",
       "      <td>dual identity love of one's life pizza boy mar...</td>\n",
       "      <td>Spider-Man 2</td>\n",
       "      <td>Peter Parker is going through a major identity...</td>\n",
       "      <td>Spider-Man 2 Peter Parker is going through a m...</td>\n",
       "    </tr>\n",
       "    <tr>\n",
       "      <th>4</th>\n",
       "      <td>car race sequel comedy anthropomorphism best f...</td>\n",
       "      <td>Cars 2</td>\n",
       "      <td>Star race car Lightning McQueen and his pal Ma...</td>\n",
       "      <td>Cars 2 Star race car Lightning McQueen and his...</td>\n",
       "    </tr>\n",
       "    <tr>\n",
       "      <th>...</th>\n",
       "      <td>...</td>\n",
       "      <td>...</td>\n",
       "      <td>...</td>\n",
       "      <td>...</td>\n",
       "    </tr>\n",
       "    <tr>\n",
       "      <th>434</th>\n",
       "      <td>london england countryside rape sex trauma</td>\n",
       "      <td>Straightheads</td>\n",
       "      <td>There is instant chemistry between Alice (Gill...</td>\n",
       "      <td>Straightheads There is instant chemistry betwe...</td>\n",
       "    </tr>\n",
       "    <tr>\n",
       "      <th>435</th>\n",
       "      <td>transplantation experiment mutant brain fianc\\...</td>\n",
       "      <td>The Brain That Wouldn't Die</td>\n",
       "      <td>Dr. Bill Cortner (Jason Evers) and his fiancée...</td>\n",
       "      <td>The Brain That Wouldn't Die Dr. Bill Cortner (...</td>\n",
       "    </tr>\n",
       "    <tr>\n",
       "      <th>436</th>\n",
       "      <td>independent film</td>\n",
       "      <td>George Washington</td>\n",
       "      <td>A delicately told and deceptively simple story...</td>\n",
       "      <td>George Washington A delicately told and decept...</td>\n",
       "    </tr>\n",
       "    <tr>\n",
       "      <th>437</th>\n",
       "      <td>office love independent film secretary misogynist</td>\n",
       "      <td>In the Company of Men</td>\n",
       "      <td>Two business executives--one an avowed misogyn...</td>\n",
       "      <td>In the Company of Men Two business executives-...</td>\n",
       "    </tr>\n",
       "    <tr>\n",
       "      <th>438</th>\n",
       "      <td>addiction recovering drug addict estranged son</td>\n",
       "      <td>Clean</td>\n",
       "      <td>After losing her husband to a heroin overdose,...</td>\n",
       "      <td>Clean After losing her husband to a heroin ove...</td>\n",
       "    </tr>\n",
       "  </tbody>\n",
       "</table>\n",
       "<p>439 rows × 4 columns</p>\n",
       "</div>"
      ],
      "text/plain": [
       "                                              keywords  \\\n",
       "0    culture clash future space war space colony so...   \n",
       "1    saving the world dc comics invulnerability seq...   \n",
       "2    loss of father vigilante serum marvel comic sc...   \n",
       "3    dual identity love of one's life pizza boy mar...   \n",
       "4    car race sequel comedy anthropomorphism best f...   \n",
       "..                                                 ...   \n",
       "434         london england countryside rape sex trauma   \n",
       "435  transplantation experiment mutant brain fianc\\...   \n",
       "436                                   independent film   \n",
       "437  office love independent film secretary misogynist   \n",
       "438     addiction recovering drug addict estranged son   \n",
       "\n",
       "                  original_title  \\\n",
       "0                         Avatar   \n",
       "1               Superman Returns   \n",
       "2         The Amazing Spider-Man   \n",
       "3                   Spider-Man 2   \n",
       "4                         Cars 2   \n",
       "..                           ...   \n",
       "434                Straightheads   \n",
       "435  The Brain That Wouldn't Die   \n",
       "436            George Washington   \n",
       "437        In the Company of Men   \n",
       "438                        Clean   \n",
       "\n",
       "                                              overview  \\\n",
       "0    In the 22nd century, a paraplegic Marine is di...   \n",
       "1    Superman returns to discover his 5-year absenc...   \n",
       "2    Peter Parker is an outcast high schooler aband...   \n",
       "3    Peter Parker is going through a major identity...   \n",
       "4    Star race car Lightning McQueen and his pal Ma...   \n",
       "..                                                 ...   \n",
       "434  There is instant chemistry between Alice (Gill...   \n",
       "435  Dr. Bill Cortner (Jason Evers) and his fiancée...   \n",
       "436  A delicately told and deceptively simple story...   \n",
       "437  Two business executives--one an avowed misogyn...   \n",
       "438  After losing her husband to a heroin overdose,...   \n",
       "\n",
       "                                     combined_features  \n",
       "0    Avatar In the 22nd century, a paraplegic Marin...  \n",
       "1    Superman Returns Superman returns to discover ...  \n",
       "2    The Amazing Spider-Man Peter Parker is an outc...  \n",
       "3    Spider-Man 2 Peter Parker is going through a m...  \n",
       "4    Cars 2 Star race car Lightning McQueen and his...  \n",
       "..                                                 ...  \n",
       "434  Straightheads There is instant chemistry betwe...  \n",
       "435  The Brain That Wouldn't Die Dr. Bill Cortner (...  \n",
       "436  George Washington A delicately told and decept...  \n",
       "437  In the Company of Men Two business executives-...  \n",
       "438  Clean After losing her husband to a heroin ove...  \n",
       "\n",
       "[439 rows x 4 columns]"
      ]
     },
     "execution_count": 9,
     "metadata": {},
     "output_type": "execute_result"
    }
   ],
   "source": [
    "df = pd.read_csv(\"./Data/my_data.csv\",usecols=['original_title','overview','keywords'])\n",
    "df.loc[:,'combined_features'] = df.loc[:,'original_title'] + ' ' + df.loc[:,'overview'] + ' ' + df.loc[:,'keywords']\n",
    "df.reset_index(drop=True)\n",
    "df"
   ]
  },
  {
   "cell_type": "markdown",
   "id": "25e0ead7-02f7-4be7-b523-c61c384b5635",
   "metadata": {},
   "source": [
    "## 2. Method 1: TF-IDF via sklearn"
   ]
  },
  {
   "cell_type": "markdown",
   "id": "1f17cf84-2e89-409b-935a-215238dcfcb4",
   "metadata": {},
   "source": [
    "First, we create the TF-IDF tokenizer via the preset English tokenizer, fit the tokenizer on the 'combined_features' column, and we also create a TF-IDF matrix of shape (439, 6151). In other words, 439 documents (each one of them being a string of concatenated movie name, summary, and key words) and 6151 tokens."
   ]
  },
  {
   "cell_type": "markdown",
   "id": "1002afe3-e72b-4a3a-af84-1155b3a6e799",
   "metadata": {},
   "source": [
    "### 2.1 Converting data to TF-IDF matrix."
   ]
  },
  {
   "cell_type": "code",
   "execution_count": 13,
   "id": "40e9344c-99fc-47ef-bfd5-1b47f72021f9",
   "metadata": {},
   "outputs": [
    {
     "name": "stdout",
     "output_type": "stream",
     "text": [
      "(439, 6151)\n"
     ]
    }
   ],
   "source": [
    "#!pip install scikit-learn\n",
    "from sklearn.feature_extraction.text import TfidfVectorizer\n",
    "\n",
    "# Initialize the TF-IDF Vectorizer\n",
    "tfidf = TfidfVectorizer(stop_words='english')\n",
    "tfidf_matrix = tfidf.fit_transform(df['combined_features'])\n",
    "\n",
    "print(tfidf_matrix.shape)"
   ]
  },
  {
   "cell_type": "markdown",
   "id": "ab96e3ba-0278-4c10-978b-6bff25c198e2",
   "metadata": {},
   "source": [
    "### 2.2 Building the pipeline for recommendation retrieval"
   ]
  },
  {
   "cell_type": "code",
   "execution_count": 15,
   "id": "f3e2ab36-f046-449e-b27e-0c1dd062ca97",
   "metadata": {
    "jupyter": {
     "source_hidden": true
    }
   },
   "outputs": [],
   "source": [
    "from sklearn.metrics.pairwise import linear_kernel\n",
    "indices = pd.Series(df.index, index=df['original_title']).drop_duplicates()\n",
    "\n",
    "def recommend_by_description(description, top_n=5):\n",
    "    \"\"\"\n",
    "    Given a user description (e.g., \"I like action movies set in space\"),\n",
    "    return the top_n most similar movies.\n",
    "    \"\"\"\n",
    "    query_vector = tfidf.transform([description])\n",
    "    \n",
    "    # Compute similarity between a certain input vector and all movie vectors\n",
    "    similarities = linear_kernel(query_vector, tfidf_matrix).flatten()\n",
    "    \n",
    "    # Return the indices of the top_n movies (descending order of similarity)\n",
    "    top_indices = similarities.argsort()[::-1][:top_n]\n",
    "    \n",
    "    # Build a DataFrame of the recommended movies\n",
    "    recommended = df.iloc[top_indices].copy()\n",
    "    recommended['similarity'] = similarities[top_indices]\n",
    "    \n",
    "    return recommended[['original_title', 'similarity', 'overview']]"
   ]
  },
  {
   "cell_type": "markdown",
   "id": "443a20fe-20da-433a-ae23-26d204b6e3d8",
   "metadata": {},
   "source": [
    "## 2.1 Example output"
   ]
  },
  {
   "cell_type": "code",
   "execution_count": 17,
   "id": "2b8b074a-1162-45a2-aec7-1addc0d49053",
   "metadata": {},
   "outputs": [
    {
     "data": {
      "text/html": [
       "<div>\n",
       "<style scoped>\n",
       "    .dataframe tbody tr th:only-of-type {\n",
       "        vertical-align: middle;\n",
       "    }\n",
       "\n",
       "    .dataframe tbody tr th {\n",
       "        vertical-align: top;\n",
       "    }\n",
       "\n",
       "    .dataframe thead th {\n",
       "        text-align: right;\n",
       "    }\n",
       "</style>\n",
       "<table border=\"1\" class=\"dataframe\">\n",
       "  <thead>\n",
       "    <tr style=\"text-align: right;\">\n",
       "      <th></th>\n",
       "      <th>original_title</th>\n",
       "      <th>similarity</th>\n",
       "      <th>overview</th>\n",
       "    </tr>\n",
       "  </thead>\n",
       "  <tbody>\n",
       "    <tr>\n",
       "      <th>144</th>\n",
       "      <td>The Fountain</td>\n",
       "      <td>0.232185</td>\n",
       "      <td>Spanning over one thousand years, and three pa...</td>\n",
       "    </tr>\n",
       "    <tr>\n",
       "      <th>372</th>\n",
       "      <td>My Big Fat Independent Movie</td>\n",
       "      <td>0.221189</td>\n",
       "      <td>This film is a spoof along the lines of \"Scary...</td>\n",
       "    </tr>\n",
       "    <tr>\n",
       "      <th>335</th>\n",
       "      <td>Jackass: The Movie</td>\n",
       "      <td>0.217145</td>\n",
       "      <td>Johnny Knoxville and his crazy friends appear ...</td>\n",
       "    </tr>\n",
       "    <tr>\n",
       "      <th>319</th>\n",
       "      <td>Veer-Zaara</td>\n",
       "      <td>0.185271</td>\n",
       "      <td>The story of the love between Veer Pratap Sing...</td>\n",
       "    </tr>\n",
       "    <tr>\n",
       "      <th>268</th>\n",
       "      <td>Lars and the Real Girl</td>\n",
       "      <td>0.166271</td>\n",
       "      <td>Sometimes you find love where you'd least expe...</td>\n",
       "    </tr>\n",
       "  </tbody>\n",
       "</table>\n",
       "</div>"
      ],
      "text/plain": [
       "                   original_title  similarity  \\\n",
       "144                  The Fountain    0.232185   \n",
       "372  My Big Fat Independent Movie    0.221189   \n",
       "335            Jackass: The Movie    0.217145   \n",
       "319                    Veer-Zaara    0.185271   \n",
       "268        Lars and the Real Girl    0.166271   \n",
       "\n",
       "                                              overview  \n",
       "144  Spanning over one thousand years, and three pa...  \n",
       "372  This film is a spoof along the lines of \"Scary...  \n",
       "335  Johnny Knoxville and his crazy friends appear ...  \n",
       "319  The story of the love between Veer Pratap Sing...  \n",
       "268  Sometimes you find love where you'd least expe...  "
      ]
     },
     "execution_count": 17,
     "metadata": {},
     "output_type": "execute_result"
    }
   ],
   "source": [
    "recommend_by_description(\"A movie about life, love, and death.\")"
   ]
  },
  {
   "cell_type": "code",
   "execution_count": 18,
   "id": "afdb627c-5b81-43cc-9531-d18a84c059dd",
   "metadata": {},
   "outputs": [
    {
     "name": "stdout",
     "output_type": "stream",
     "text": [
      "Python 3.11.11\n"
     ]
    }
   ],
   "source": [
    "#!pip freeze > requirements.txt\n",
    "!python -V\n",
    "#!pipreqsnb --force ."
   ]
  },
  {
   "cell_type": "markdown",
   "id": "ecea83d6-ded3-47e2-ae81-28f926256a76",
   "metadata": {},
   "source": [
    "## Salary requirements:\n",
    "\n",
    "Expected salary: Monthly salary of $36000+ for 40-hr week."
   ]
  }
 ],
 "metadata": {
  "kernelspec": {
   "display_name": "Python [conda env:Demo_env]",
   "language": "python",
   "name": "conda-env-Demo_env-py"
  },
  "language_info": {
   "codemirror_mode": {
    "name": "ipython",
    "version": 3
   },
   "file_extension": ".py",
   "mimetype": "text/x-python",
   "name": "python",
   "nbconvert_exporter": "python",
   "pygments_lexer": "ipython3",
   "version": "3.11.11"
  }
 },
 "nbformat": 4,
 "nbformat_minor": 5
}
